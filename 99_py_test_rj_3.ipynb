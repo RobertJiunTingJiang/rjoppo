{
 "cells": [
  {
   "cell_type": "markdown",
   "metadata": {},
   "source": [
    "# Design By Robert Jiang 2018.05.01\n",
    "###### h6\n",
    "\n",
    "#####h2\n",
    "###h3\n",
    "#h1\n",
    "### h3\n",
    "#### h4\n",
    "\n",
    "## h22\n",
    "\n"
   ]
  },
  {
   "cell_type": "markdown",
   "metadata": {},
   "source": [
    "#發現Jupyter notebook配上 githup，可以一邊實驗程式，一邊加上註解。(特別是：有數學符號的機器學習，應該更合適。或是爬蟲時，連到各網站好不容易下載的資料，可以視覺化、又可反覆測試某一小Cell.\n",
    "\n",
    "##這是一個九九乘法表的快速練習，配合print()的 end參數，就可印出。"
   ]
  },
  {
   "cell_type": "code",
   "execution_count": 1,
   "metadata": {},
   "outputs": [
    {
     "name": "stdout",
     "output_type": "stream",
     "text": [
      "5 10 15 20 25 30 35 40 45 \n",
      "6 12 18 24 30 36 42 48 54 \n",
      "7 14 21 28 35 42 49 56 63 \n",
      "8 16 24 32 40 48 56 64 72 \n",
      "9 18 27 36 45 54 63 72 81 \n"
     ]
    }
   ],
   "source": [
    "for i in range(5,10):\n",
    "    for j in range(1,10):\n",
    "        print(i*j, end=' ')\n",
    "    print()"
   ]
  },
  {
   "cell_type": "raw",
   "metadata": {},
   "source": [
    "使用 mathjax\n",
    "基本上 jupyter 已經是使用 mathjax 處理數學公式。而且它整合在 markdown cell 裡。\n",
    "所以只要把建立一個 markdown cell，把 latex 的表示的前後加上 這個符號，像這樣：$c = \\sqrt{a^2 + b^2}$"
   ]
  },
  {
   "cell_type": "markdown",
   "metadata": {},
   "source": [
    "###%%markdown\n",
    "$^1/_2$\n",
    "${3 \\over 4}$\n",
    "\n",
    "$c = \\sqrt{a^2 + b^2}$"
   ]
  },
  {
   "cell_type": "code",
   "execution_count": null,
   "metadata": {},
   "outputs": [],
   "source": []
  },
  {
   "cell_type": "markdown",
   "metadata": {},
   "source": [
    "#下載與剖析html網頁"
   ]
  },
  {
   "cell_type": "markdown",
   "metadata": {},
   "source": [
    "##如何下載網頁\n"
   ]
  },
  {
   "cell_type": "code",
   "execution_count": 2,
   "metadata": {},
   "outputs": [],
   "source": [
    "#匯入 *.request之後，就可以呼叫urlopen()方法開網頁\n",
    "import urllib.request\n"
   ]
  },
  {
   "cell_type": "code",
   "execution_count": 3,
   "metadata": {},
   "outputs": [],
   "source": [
    "url=\"http://www.klcivs.kl.edu.tw\"\n",
    "response = urllib.request.urlopen(url)"
   ]
  },
  {
   "cell_type": "code",
   "execution_count": 4,
   "metadata": {},
   "outputs": [],
   "source": [
    "contents=response.read()\n"
   ]
  },
  {
   "cell_type": "code",
   "execution_count": 5,
   "metadata": {},
   "outputs": [],
   "source": [
    "response.close()\n"
   ]
  },
  {
   "cell_type": "code",
   "execution_count": 6,
   "metadata": {},
   "outputs": [],
   "source": [
    "#contents\n",
    "#contents.decode()\n",
    "#print( contents.decode())\n",
    "#(因為檔案會很大所以先 remail  註解#)\n"
   ]
  },
  {
   "cell_type": "raw",
   "metadata": {},
   "source": []
  }
 ],
 "metadata": {
  "kernelspec": {
   "display_name": "Python 3",
   "language": "python",
   "name": "python3"
  },
  "language_info": {
   "codemirror_mode": {
    "name": "ipython",
    "version": 3
   },
   "file_extension": ".py",
   "mimetype": "text/x-python",
   "name": "python",
   "nbconvert_exporter": "python",
   "pygments_lexer": "ipython3",
   "version": "3.6.5"
  }
 },
 "nbformat": 4,
 "nbformat_minor": 2
}
